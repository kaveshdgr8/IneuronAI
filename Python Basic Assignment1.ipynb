{
 "cells": [
  {
   "cell_type": "markdown",
   "id": "f561f72e-00e7-455d-b086-edaf3ac29e6c",
   "metadata": {},
   "source": [
    "1. In the below elements which of them are values or an expression? eg:- values can be\n",
    "A.integer or string and expressions will be mathematical operators.\n",
    "* - EXPRESSION \n",
    "'hello' -Value\n",
    "-87.8 - Value\n",
    "- -Expression\n",
    "/ -Expression\n",
    "+ -Expression\n",
    "6 -Value\n",
    "\n",
    "2. What is the difference between string and variable?\n",
    "A.A Python variable is a reserved memory location to store value whereas a string is a sequence of Unicode characters. \n",
    "\n",
    "3. Describe three different data types.\n",
    "A.Integers – This value is represented by int class. It contains positive or negative whole numbers (without fraction or decimal). In Python there is no limit to how long an integer value can be.\n",
    "Float – This value is represented by float class. It is a real number with floating point representation. It is specified by a decimal point. Optionally, the character e or E followed by a positive or negative integer may be appended to specify scientific notation.\n",
    "Complex Numbers – Complex number is represented by complex class. It is specified as (real part) + (imaginary part)j. For example – 2+3j\n",
    "String-In Python, Strings are arrays of bytes representing Unicode characters. A string is a collection of one or more characters put in a single quote, double-quote or triple quote. In python there is no character data type, a character is a string of length one. It is represented by str class.\n",
    "\n",
    "4. What is an expression made up of? What do all expressions do?\n",
    "A.An expression is a combination of operators and operands that is interpreted to produce some other value. All expressions apply operators on operands.An Expression always evaluates to a value\n",
    "\n",
    "5. This assignment statements, like spam = 10. What is the difference between an expression and a statement?\n",
    "A.    An Expression always evaluates to a value. And, A statement does something, like creating a variable or displaying a value, it only does whatever the statement says.\n",
    "    \n",
    "6. After running the following code, what does the variable bacon contain?\n",
    "bacon = 22\n",
    "bacon + 1\n",
    "A. 22\n",
    "\n",
    "7. What should the values of the following two terms be?\n",
    "A. 'spam' + 'spamspam'='spamspamspam'\n",
    "  'spam'*3='spamspamspam'\n",
    "\n",
    "8. Why is eggs a valid variable name while 100 is invalid?\n",
    "A.Rules for Python variables:\n",
    "A variable name must start with a letter or the underscore character\n",
    "A variable name cannot start with a number\n",
    "A variable name can only contain alpha-numeric characters and underscores (A-z, 0-9, and _ )\n",
    "Variable names are case-sensitive (age, Age and AGE are three different variables)\n",
    "\n",
    "9. What three functions can be used to get the integer, floating-point number, or string version of a value?\n",
    "A. int(x), float(x), str(x)\n",
    "\n",
    "10. Why does this expression cause an error? How can you fix it?\n",
    "'I have eaten' + 99 + 'burritos'\n",
    "A.'I have eaten' + str(99) + 'burritos' or 'I have eaten' + ' 99 ' + 'burritos'\n"
   ]
  }
 ],
 "metadata": {
  "kernelspec": {
   "display_name": "Python 3 (ipykernel)",
   "language": "python",
   "name": "python3"
  },
  "language_info": {
   "codemirror_mode": {
    "name": "ipython",
    "version": 3
   },
   "file_extension": ".py",
   "mimetype": "text/x-python",
   "name": "python",
   "nbconvert_exporter": "python",
   "pygments_lexer": "ipython3",
   "version": "3.9.7"
  }
 },
 "nbformat": 4,
 "nbformat_minor": 5
}
